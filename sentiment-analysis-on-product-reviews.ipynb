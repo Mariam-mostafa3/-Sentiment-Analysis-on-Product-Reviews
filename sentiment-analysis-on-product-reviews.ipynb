{
 "cells": [
  {
   "cell_type": "code",
   "execution_count": 1,
   "id": "15fc42a1",
   "metadata": {
    "execution": {
     "iopub.execute_input": "2025-07-26T01:20:12.339746Z",
     "iopub.status.busy": "2025-07-26T01:20:12.339422Z",
     "iopub.status.idle": "2025-07-26T01:20:16.322275Z",
     "shell.execute_reply": "2025-07-26T01:20:16.321088Z"
    },
    "papermill": {
     "duration": 3.991212,
     "end_time": "2025-07-26T01:20:16.324410",
     "exception": false,
     "start_time": "2025-07-26T01:20:12.333198",
     "status": "completed"
    },
    "tags": []
   },
   "outputs": [],
   "source": [
    "import pandas as pd\n",
    "from sklearn.linear_model import LogisticRegression\n",
    "from sklearn.model_selection import train_test_split\n",
    "from sklearn.metrics import classification_report\n",
    "from sklearn.naive_bayes import MultinomialNB "
   ]
  },
  {
   "cell_type": "code",
   "execution_count": 2,
   "id": "02748ce3",
   "metadata": {
    "execution": {
     "iopub.execute_input": "2025-07-26T01:20:16.334805Z",
     "iopub.status.busy": "2025-07-26T01:20:16.334298Z",
     "iopub.status.idle": "2025-07-26T01:20:17.913305Z",
     "shell.execute_reply": "2025-07-26T01:20:17.912333Z"
    },
    "papermill": {
     "duration": 1.586056,
     "end_time": "2025-07-26T01:20:17.915117",
     "exception": false,
     "start_time": "2025-07-26T01:20:16.329061",
     "status": "completed"
    },
    "tags": []
   },
   "outputs": [],
   "source": [
    "data=pd.read_csv(\"/kaggle/input/imdb-dataset-of-50k-movie-reviews/IMDB Dataset.csv\")"
   ]
  },
  {
   "cell_type": "code",
   "execution_count": 3,
   "id": "b9312365",
   "metadata": {
    "execution": {
     "iopub.execute_input": "2025-07-26T01:20:17.925483Z",
     "iopub.status.busy": "2025-07-26T01:20:17.925169Z",
     "iopub.status.idle": "2025-07-26T01:20:17.951581Z",
     "shell.execute_reply": "2025-07-26T01:20:17.950478Z"
    },
    "papermill": {
     "duration": 0.0333,
     "end_time": "2025-07-26T01:20:17.953076",
     "exception": false,
     "start_time": "2025-07-26T01:20:17.919776",
     "status": "completed"
    },
    "tags": []
   },
   "outputs": [
    {
     "data": {
      "text/html": [
       "<div>\n",
       "<style scoped>\n",
       "    .dataframe tbody tr th:only-of-type {\n",
       "        vertical-align: middle;\n",
       "    }\n",
       "\n",
       "    .dataframe tbody tr th {\n",
       "        vertical-align: top;\n",
       "    }\n",
       "\n",
       "    .dataframe thead th {\n",
       "        text-align: right;\n",
       "    }\n",
       "</style>\n",
       "<table border=\"1\" class=\"dataframe\">\n",
       "  <thead>\n",
       "    <tr style=\"text-align: right;\">\n",
       "      <th></th>\n",
       "      <th>review</th>\n",
       "      <th>sentiment</th>\n",
       "    </tr>\n",
       "  </thead>\n",
       "  <tbody>\n",
       "    <tr>\n",
       "      <th>0</th>\n",
       "      <td>One of the other reviewers has mentioned that ...</td>\n",
       "      <td>positive</td>\n",
       "    </tr>\n",
       "    <tr>\n",
       "      <th>1</th>\n",
       "      <td>A wonderful little production. &lt;br /&gt;&lt;br /&gt;The...</td>\n",
       "      <td>positive</td>\n",
       "    </tr>\n",
       "    <tr>\n",
       "      <th>2</th>\n",
       "      <td>I thought this was a wonderful way to spend ti...</td>\n",
       "      <td>positive</td>\n",
       "    </tr>\n",
       "    <tr>\n",
       "      <th>3</th>\n",
       "      <td>Basically there's a family where a little boy ...</td>\n",
       "      <td>negative</td>\n",
       "    </tr>\n",
       "    <tr>\n",
       "      <th>4</th>\n",
       "      <td>Petter Mattei's \"Love in the Time of Money\" is...</td>\n",
       "      <td>positive</td>\n",
       "    </tr>\n",
       "  </tbody>\n",
       "</table>\n",
       "</div>"
      ],
      "text/plain": [
       "                                              review sentiment\n",
       "0  One of the other reviewers has mentioned that ...  positive\n",
       "1  A wonderful little production. <br /><br />The...  positive\n",
       "2  I thought this was a wonderful way to spend ti...  positive\n",
       "3  Basically there's a family where a little boy ...  negative\n",
       "4  Petter Mattei's \"Love in the Time of Money\" is...  positive"
      ]
     },
     "execution_count": 3,
     "metadata": {},
     "output_type": "execute_result"
    }
   ],
   "source": [
    "data.head()"
   ]
  },
  {
   "cell_type": "code",
   "execution_count": 4,
   "id": "9ab1c7fa",
   "metadata": {
    "execution": {
     "iopub.execute_input": "2025-07-26T01:20:17.964265Z",
     "iopub.status.busy": "2025-07-26T01:20:17.963912Z",
     "iopub.status.idle": "2025-07-26T01:20:18.946133Z",
     "shell.execute_reply": "2025-07-26T01:20:18.944768Z"
    },
    "papermill": {
     "duration": 0.990249,
     "end_time": "2025-07-26T01:20:18.948157",
     "exception": false,
     "start_time": "2025-07-26T01:20:17.957908",
     "status": "completed"
    },
    "tags": []
   },
   "outputs": [
    {
     "name": "stderr",
     "output_type": "stream",
     "text": [
      "[nltk_data] Downloading package punkt to /usr/share/nltk_data...\n",
      "[nltk_data]   Package punkt is already up-to-date!\n",
      "[nltk_data] Downloading package stopwords to /usr/share/nltk_data...\n",
      "[nltk_data]   Package stopwords is already up-to-date!\n"
     ]
    },
    {
     "data": {
      "text/plain": [
       "True"
      ]
     },
     "execution_count": 4,
     "metadata": {},
     "output_type": "execute_result"
    }
   ],
   "source": [
    "import nltk\n",
    "import re\n",
    "nltk.download(\"punkt\")\n",
    "nltk.download(\"stopwords\")"
   ]
  },
  {
   "cell_type": "code",
   "execution_count": 5,
   "id": "51b76d08",
   "metadata": {
    "execution": {
     "iopub.execute_input": "2025-07-26T01:20:18.959658Z",
     "iopub.status.busy": "2025-07-26T01:20:18.959291Z",
     "iopub.status.idle": "2025-07-26T01:20:18.964533Z",
     "shell.execute_reply": "2025-07-26T01:20:18.963470Z"
    },
    "papermill": {
     "duration": 0.012546,
     "end_time": "2025-07-26T01:20:18.966158",
     "exception": false,
     "start_time": "2025-07-26T01:20:18.953612",
     "status": "completed"
    },
    "tags": []
   },
   "outputs": [],
   "source": [
    "from nltk.corpus import stopwords\n",
    "from nltk.tokenize import word_tokenize"
   ]
  },
  {
   "cell_type": "code",
   "execution_count": 6,
   "id": "394f7c1f",
   "metadata": {
    "execution": {
     "iopub.execute_input": "2025-07-26T01:20:18.976587Z",
     "iopub.status.busy": "2025-07-26T01:20:18.976260Z",
     "iopub.status.idle": "2025-07-26T01:20:18.985715Z",
     "shell.execute_reply": "2025-07-26T01:20:18.983682Z"
    },
    "papermill": {
     "duration": 0.016735,
     "end_time": "2025-07-26T01:20:18.987549",
     "exception": false,
     "start_time": "2025-07-26T01:20:18.970814",
     "status": "completed"
    },
    "tags": []
   },
   "outputs": [],
   "source": [
    "stop_words=set(stopwords.words('english'))"
   ]
  },
  {
   "cell_type": "code",
   "execution_count": 7,
   "id": "2be67936",
   "metadata": {
    "execution": {
     "iopub.execute_input": "2025-07-26T01:20:18.999296Z",
     "iopub.status.busy": "2025-07-26T01:20:18.998939Z",
     "iopub.status.idle": "2025-07-26T01:20:19.004798Z",
     "shell.execute_reply": "2025-07-26T01:20:19.003962Z"
    },
    "papermill": {
     "duration": 0.01302,
     "end_time": "2025-07-26T01:20:19.006299",
     "exception": false,
     "start_time": "2025-07-26T01:20:18.993279",
     "status": "completed"
    },
    "tags": []
   },
   "outputs": [],
   "source": [
    "def clean_review(text):\n",
    "    text=text.lower()\n",
    "    text=re.sub(r\"[^a-zA-Z\\s+]\",'',text) #convert numbers\n",
    "    text=re.sub(r\"http\\s+|www\\s+\",'',text) #remove URLS\n",
    "    words=word_tokenize(text)\n",
    "    words=[word for word in words if word not in stop_words]\n",
    "    return \" \".join(words)\n",
    "    "
   ]
  },
  {
   "cell_type": "code",
   "execution_count": 8,
   "id": "00382397",
   "metadata": {
    "execution": {
     "iopub.execute_input": "2025-07-26T01:20:19.018326Z",
     "iopub.status.busy": "2025-07-26T01:20:19.017410Z",
     "iopub.status.idle": "2025-07-26T01:20:57.657333Z",
     "shell.execute_reply": "2025-07-26T01:20:57.656364Z"
    },
    "papermill": {
     "duration": 38.648413,
     "end_time": "2025-07-26T01:20:57.659234",
     "exception": false,
     "start_time": "2025-07-26T01:20:19.010821",
     "status": "completed"
    },
    "tags": []
   },
   "outputs": [],
   "source": [
    "data['cleaned_review']=data['review'].apply(clean_review)"
   ]
  },
  {
   "cell_type": "code",
   "execution_count": 9,
   "id": "e3bd7fc8",
   "metadata": {
    "execution": {
     "iopub.execute_input": "2025-07-26T01:20:57.670396Z",
     "iopub.status.busy": "2025-07-26T01:20:57.669423Z",
     "iopub.status.idle": "2025-07-26T01:20:57.680060Z",
     "shell.execute_reply": "2025-07-26T01:20:57.679074Z"
    },
    "papermill": {
     "duration": 0.018035,
     "end_time": "2025-07-26T01:20:57.681975",
     "exception": false,
     "start_time": "2025-07-26T01:20:57.663940",
     "status": "completed"
    },
    "tags": []
   },
   "outputs": [
    {
     "data": {
      "text/html": [
       "<div>\n",
       "<style scoped>\n",
       "    .dataframe tbody tr th:only-of-type {\n",
       "        vertical-align: middle;\n",
       "    }\n",
       "\n",
       "    .dataframe tbody tr th {\n",
       "        vertical-align: top;\n",
       "    }\n",
       "\n",
       "    .dataframe thead th {\n",
       "        text-align: right;\n",
       "    }\n",
       "</style>\n",
       "<table border=\"1\" class=\"dataframe\">\n",
       "  <thead>\n",
       "    <tr style=\"text-align: right;\">\n",
       "      <th></th>\n",
       "      <th>review</th>\n",
       "      <th>sentiment</th>\n",
       "      <th>cleaned_review</th>\n",
       "    </tr>\n",
       "  </thead>\n",
       "  <tbody>\n",
       "    <tr>\n",
       "      <th>0</th>\n",
       "      <td>One of the other reviewers has mentioned that ...</td>\n",
       "      <td>positive</td>\n",
       "      <td>one reviewers mentioned watching oz episode yo...</td>\n",
       "    </tr>\n",
       "    <tr>\n",
       "      <th>1</th>\n",
       "      <td>A wonderful little production. &lt;br /&gt;&lt;br /&gt;The...</td>\n",
       "      <td>positive</td>\n",
       "      <td>wonderful little production br br filming tech...</td>\n",
       "    </tr>\n",
       "    <tr>\n",
       "      <th>2</th>\n",
       "      <td>I thought this was a wonderful way to spend ti...</td>\n",
       "      <td>positive</td>\n",
       "      <td>thought wonderful way spend time hot summer we...</td>\n",
       "    </tr>\n",
       "    <tr>\n",
       "      <th>3</th>\n",
       "      <td>Basically there's a family where a little boy ...</td>\n",
       "      <td>negative</td>\n",
       "      <td>basically theres family little boy jake thinks...</td>\n",
       "    </tr>\n",
       "    <tr>\n",
       "      <th>4</th>\n",
       "      <td>Petter Mattei's \"Love in the Time of Money\" is...</td>\n",
       "      <td>positive</td>\n",
       "      <td>petter matteis love time money visually stunni...</td>\n",
       "    </tr>\n",
       "  </tbody>\n",
       "</table>\n",
       "</div>"
      ],
      "text/plain": [
       "                                              review sentiment  \\\n",
       "0  One of the other reviewers has mentioned that ...  positive   \n",
       "1  A wonderful little production. <br /><br />The...  positive   \n",
       "2  I thought this was a wonderful way to spend ti...  positive   \n",
       "3  Basically there's a family where a little boy ...  negative   \n",
       "4  Petter Mattei's \"Love in the Time of Money\" is...  positive   \n",
       "\n",
       "                                      cleaned_review  \n",
       "0  one reviewers mentioned watching oz episode yo...  \n",
       "1  wonderful little production br br filming tech...  \n",
       "2  thought wonderful way spend time hot summer we...  \n",
       "3  basically theres family little boy jake thinks...  \n",
       "4  petter matteis love time money visually stunni...  "
      ]
     },
     "execution_count": 9,
     "metadata": {},
     "output_type": "execute_result"
    }
   ],
   "source": [
    "data.head()"
   ]
  },
  {
   "cell_type": "code",
   "execution_count": 10,
   "id": "76b2ea6d",
   "metadata": {
    "execution": {
     "iopub.execute_input": "2025-07-26T01:20:57.693422Z",
     "iopub.status.busy": "2025-07-26T01:20:57.693076Z",
     "iopub.status.idle": "2025-07-26T01:20:57.698199Z",
     "shell.execute_reply": "2025-07-26T01:20:57.697290Z"
    },
    "papermill": {
     "duration": 0.013161,
     "end_time": "2025-07-26T01:20:57.700014",
     "exception": false,
     "start_time": "2025-07-26T01:20:57.686853",
     "status": "completed"
    },
    "tags": []
   },
   "outputs": [],
   "source": [
    "from sklearn.feature_extraction.text import TfidfVectorizer #TfidfVectorizer"
   ]
  },
  {
   "cell_type": "code",
   "execution_count": 11,
   "id": "3b2b1307",
   "metadata": {
    "execution": {
     "iopub.execute_input": "2025-07-26T01:20:57.711117Z",
     "iopub.status.busy": "2025-07-26T01:20:57.710745Z",
     "iopub.status.idle": "2025-07-26T01:21:03.850136Z",
     "shell.execute_reply": "2025-07-26T01:21:03.849070Z"
    },
    "papermill": {
     "duration": 6.146825,
     "end_time": "2025-07-26T01:21:03.851944",
     "exception": false,
     "start_time": "2025-07-26T01:20:57.705119",
     "status": "completed"
    },
    "tags": []
   },
   "outputs": [],
   "source": [
    "tfidfv=TfidfVectorizer(max_features=5000)\n",
    "tfidv_data=tfidfv.fit_transform(data['cleaned_review'])"
   ]
  },
  {
   "cell_type": "code",
   "execution_count": 12,
   "id": "b8651e88",
   "metadata": {
    "execution": {
     "iopub.execute_input": "2025-07-26T01:21:03.862620Z",
     "iopub.status.busy": "2025-07-26T01:21:03.862253Z",
     "iopub.status.idle": "2025-07-26T01:21:03.876409Z",
     "shell.execute_reply": "2025-07-26T01:21:03.875215Z"
    },
    "papermill": {
     "duration": 0.021368,
     "end_time": "2025-07-26T01:21:03.878068",
     "exception": false,
     "start_time": "2025-07-26T01:21:03.856700",
     "status": "completed"
    },
    "tags": []
   },
   "outputs": [],
   "source": [
    "data[\"sentiment\"]=data[\"sentiment\"].map({\"positive\": 1,'negative' :0})"
   ]
  },
  {
   "cell_type": "code",
   "execution_count": 13,
   "id": "fa1d3bf8",
   "metadata": {
    "execution": {
     "iopub.execute_input": "2025-07-26T01:21:03.889602Z",
     "iopub.status.busy": "2025-07-26T01:21:03.888733Z",
     "iopub.status.idle": "2025-07-26T01:21:03.899103Z",
     "shell.execute_reply": "2025-07-26T01:21:03.898072Z"
    },
    "papermill": {
     "duration": 0.017756,
     "end_time": "2025-07-26T01:21:03.900589",
     "exception": false,
     "start_time": "2025-07-26T01:21:03.882833",
     "status": "completed"
    },
    "tags": []
   },
   "outputs": [
    {
     "data": {
      "text/html": [
       "<div>\n",
       "<style scoped>\n",
       "    .dataframe tbody tr th:only-of-type {\n",
       "        vertical-align: middle;\n",
       "    }\n",
       "\n",
       "    .dataframe tbody tr th {\n",
       "        vertical-align: top;\n",
       "    }\n",
       "\n",
       "    .dataframe thead th {\n",
       "        text-align: right;\n",
       "    }\n",
       "</style>\n",
       "<table border=\"1\" class=\"dataframe\">\n",
       "  <thead>\n",
       "    <tr style=\"text-align: right;\">\n",
       "      <th></th>\n",
       "      <th>review</th>\n",
       "      <th>sentiment</th>\n",
       "      <th>cleaned_review</th>\n",
       "    </tr>\n",
       "  </thead>\n",
       "  <tbody>\n",
       "    <tr>\n",
       "      <th>0</th>\n",
       "      <td>One of the other reviewers has mentioned that ...</td>\n",
       "      <td>1</td>\n",
       "      <td>one reviewers mentioned watching oz episode yo...</td>\n",
       "    </tr>\n",
       "    <tr>\n",
       "      <th>1</th>\n",
       "      <td>A wonderful little production. &lt;br /&gt;&lt;br /&gt;The...</td>\n",
       "      <td>1</td>\n",
       "      <td>wonderful little production br br filming tech...</td>\n",
       "    </tr>\n",
       "    <tr>\n",
       "      <th>2</th>\n",
       "      <td>I thought this was a wonderful way to spend ti...</td>\n",
       "      <td>1</td>\n",
       "      <td>thought wonderful way spend time hot summer we...</td>\n",
       "    </tr>\n",
       "    <tr>\n",
       "      <th>3</th>\n",
       "      <td>Basically there's a family where a little boy ...</td>\n",
       "      <td>0</td>\n",
       "      <td>basically theres family little boy jake thinks...</td>\n",
       "    </tr>\n",
       "    <tr>\n",
       "      <th>4</th>\n",
       "      <td>Petter Mattei's \"Love in the Time of Money\" is...</td>\n",
       "      <td>1</td>\n",
       "      <td>petter matteis love time money visually stunni...</td>\n",
       "    </tr>\n",
       "  </tbody>\n",
       "</table>\n",
       "</div>"
      ],
      "text/plain": [
       "                                              review  sentiment  \\\n",
       "0  One of the other reviewers has mentioned that ...          1   \n",
       "1  A wonderful little production. <br /><br />The...          1   \n",
       "2  I thought this was a wonderful way to spend ti...          1   \n",
       "3  Basically there's a family where a little boy ...          0   \n",
       "4  Petter Mattei's \"Love in the Time of Money\" is...          1   \n",
       "\n",
       "                                      cleaned_review  \n",
       "0  one reviewers mentioned watching oz episode yo...  \n",
       "1  wonderful little production br br filming tech...  \n",
       "2  thought wonderful way spend time hot summer we...  \n",
       "3  basically theres family little boy jake thinks...  \n",
       "4  petter matteis love time money visually stunni...  "
      ]
     },
     "execution_count": 13,
     "metadata": {},
     "output_type": "execute_result"
    }
   ],
   "source": [
    "data.head()"
   ]
  },
  {
   "cell_type": "code",
   "execution_count": 14,
   "id": "9423921d",
   "metadata": {
    "execution": {
     "iopub.execute_input": "2025-07-26T01:21:03.912325Z",
     "iopub.status.busy": "2025-07-26T01:21:03.911986Z",
     "iopub.status.idle": "2025-07-26T01:21:03.917355Z",
     "shell.execute_reply": "2025-07-26T01:21:03.916138Z"
    },
    "papermill": {
     "duration": 0.013541,
     "end_time": "2025-07-26T01:21:03.919513",
     "exception": false,
     "start_time": "2025-07-26T01:21:03.905972",
     "status": "completed"
    },
    "tags": []
   },
   "outputs": [],
   "source": [
    "x=tfidv_data\n",
    "y=data['sentiment']"
   ]
  },
  {
   "cell_type": "code",
   "execution_count": 15,
   "id": "95fab71e",
   "metadata": {
    "execution": {
     "iopub.execute_input": "2025-07-26T01:21:03.930524Z",
     "iopub.status.busy": "2025-07-26T01:21:03.930198Z",
     "iopub.status.idle": "2025-07-26T01:21:03.935326Z",
     "shell.execute_reply": "2025-07-26T01:21:03.934295Z"
    },
    "papermill": {
     "duration": 0.012925,
     "end_time": "2025-07-26T01:21:03.937289",
     "exception": false,
     "start_time": "2025-07-26T01:21:03.924364",
     "status": "completed"
    },
    "tags": []
   },
   "outputs": [],
   "source": [
    "lr_model=LogisticRegression(penalty='l2',solver='saga',max_iter=1000)"
   ]
  },
  {
   "cell_type": "code",
   "execution_count": 16,
   "id": "7bda2cc4",
   "metadata": {
    "execution": {
     "iopub.execute_input": "2025-07-26T01:21:03.948475Z",
     "iopub.status.busy": "2025-07-26T01:21:03.948152Z",
     "iopub.status.idle": "2025-07-26T01:21:03.979056Z",
     "shell.execute_reply": "2025-07-26T01:21:03.977994Z"
    },
    "papermill": {
     "duration": 0.038916,
     "end_time": "2025-07-26T01:21:03.981129",
     "exception": false,
     "start_time": "2025-07-26T01:21:03.942213",
     "status": "completed"
    },
    "tags": []
   },
   "outputs": [],
   "source": [
    "x_train,x_test,y_train,y_test=train_test_split(x,y,test_size=0.25,random_state=42)"
   ]
  },
  {
   "cell_type": "code",
   "execution_count": 17,
   "id": "ec48809a",
   "metadata": {
    "execution": {
     "iopub.execute_input": "2025-07-26T01:21:03.991992Z",
     "iopub.status.busy": "2025-07-26T01:21:03.991655Z",
     "iopub.status.idle": "2025-07-26T01:21:05.212474Z",
     "shell.execute_reply": "2025-07-26T01:21:05.211414Z"
    },
    "papermill": {
     "duration": 1.228236,
     "end_time": "2025-07-26T01:21:05.214169",
     "exception": false,
     "start_time": "2025-07-26T01:21:03.985933",
     "status": "completed"
    },
    "tags": []
   },
   "outputs": [
    {
     "data": {
      "text/html": [
       "<style>#sk-container-id-1 {color: black;background-color: white;}#sk-container-id-1 pre{padding: 0;}#sk-container-id-1 div.sk-toggleable {background-color: white;}#sk-container-id-1 label.sk-toggleable__label {cursor: pointer;display: block;width: 100%;margin-bottom: 0;padding: 0.3em;box-sizing: border-box;text-align: center;}#sk-container-id-1 label.sk-toggleable__label-arrow:before {content: \"▸\";float: left;margin-right: 0.25em;color: #696969;}#sk-container-id-1 label.sk-toggleable__label-arrow:hover:before {color: black;}#sk-container-id-1 div.sk-estimator:hover label.sk-toggleable__label-arrow:before {color: black;}#sk-container-id-1 div.sk-toggleable__content {max-height: 0;max-width: 0;overflow: hidden;text-align: left;background-color: #f0f8ff;}#sk-container-id-1 div.sk-toggleable__content pre {margin: 0.2em;color: black;border-radius: 0.25em;background-color: #f0f8ff;}#sk-container-id-1 input.sk-toggleable__control:checked~div.sk-toggleable__content {max-height: 200px;max-width: 100%;overflow: auto;}#sk-container-id-1 input.sk-toggleable__control:checked~label.sk-toggleable__label-arrow:before {content: \"▾\";}#sk-container-id-1 div.sk-estimator input.sk-toggleable__control:checked~label.sk-toggleable__label {background-color: #d4ebff;}#sk-container-id-1 div.sk-label input.sk-toggleable__control:checked~label.sk-toggleable__label {background-color: #d4ebff;}#sk-container-id-1 input.sk-hidden--visually {border: 0;clip: rect(1px 1px 1px 1px);clip: rect(1px, 1px, 1px, 1px);height: 1px;margin: -1px;overflow: hidden;padding: 0;position: absolute;width: 1px;}#sk-container-id-1 div.sk-estimator {font-family: monospace;background-color: #f0f8ff;border: 1px dotted black;border-radius: 0.25em;box-sizing: border-box;margin-bottom: 0.5em;}#sk-container-id-1 div.sk-estimator:hover {background-color: #d4ebff;}#sk-container-id-1 div.sk-parallel-item::after {content: \"\";width: 100%;border-bottom: 1px solid gray;flex-grow: 1;}#sk-container-id-1 div.sk-label:hover label.sk-toggleable__label {background-color: #d4ebff;}#sk-container-id-1 div.sk-serial::before {content: \"\";position: absolute;border-left: 1px solid gray;box-sizing: border-box;top: 0;bottom: 0;left: 50%;z-index: 0;}#sk-container-id-1 div.sk-serial {display: flex;flex-direction: column;align-items: center;background-color: white;padding-right: 0.2em;padding-left: 0.2em;position: relative;}#sk-container-id-1 div.sk-item {position: relative;z-index: 1;}#sk-container-id-1 div.sk-parallel {display: flex;align-items: stretch;justify-content: center;background-color: white;position: relative;}#sk-container-id-1 div.sk-item::before, #sk-container-id-1 div.sk-parallel-item::before {content: \"\";position: absolute;border-left: 1px solid gray;box-sizing: border-box;top: 0;bottom: 0;left: 50%;z-index: -1;}#sk-container-id-1 div.sk-parallel-item {display: flex;flex-direction: column;z-index: 1;position: relative;background-color: white;}#sk-container-id-1 div.sk-parallel-item:first-child::after {align-self: flex-end;width: 50%;}#sk-container-id-1 div.sk-parallel-item:last-child::after {align-self: flex-start;width: 50%;}#sk-container-id-1 div.sk-parallel-item:only-child::after {width: 0;}#sk-container-id-1 div.sk-dashed-wrapped {border: 1px dashed gray;margin: 0 0.4em 0.5em 0.4em;box-sizing: border-box;padding-bottom: 0.4em;background-color: white;}#sk-container-id-1 div.sk-label label {font-family: monospace;font-weight: bold;display: inline-block;line-height: 1.2em;}#sk-container-id-1 div.sk-label-container {text-align: center;}#sk-container-id-1 div.sk-container {/* jupyter's `normalize.less` sets `[hidden] { display: none; }` but bootstrap.min.css set `[hidden] { display: none !important; }` so we also need the `!important` here to be able to override the default hidden behavior on the sphinx rendered scikit-learn.org. See: https://github.com/scikit-learn/scikit-learn/issues/21755 */display: inline-block !important;position: relative;}#sk-container-id-1 div.sk-text-repr-fallback {display: none;}</style><div id=\"sk-container-id-1\" class=\"sk-top-container\"><div class=\"sk-text-repr-fallback\"><pre>LogisticRegression(max_iter=1000, solver=&#x27;saga&#x27;)</pre><b>In a Jupyter environment, please rerun this cell to show the HTML representation or trust the notebook. <br />On GitHub, the HTML representation is unable to render, please try loading this page with nbviewer.org.</b></div><div class=\"sk-container\" hidden><div class=\"sk-item\"><div class=\"sk-estimator sk-toggleable\"><input class=\"sk-toggleable__control sk-hidden--visually\" id=\"sk-estimator-id-1\" type=\"checkbox\" checked><label for=\"sk-estimator-id-1\" class=\"sk-toggleable__label sk-toggleable__label-arrow\">LogisticRegression</label><div class=\"sk-toggleable__content\"><pre>LogisticRegression(max_iter=1000, solver=&#x27;saga&#x27;)</pre></div></div></div></div></div>"
      ],
      "text/plain": [
       "LogisticRegression(max_iter=1000, solver='saga')"
      ]
     },
     "execution_count": 17,
     "metadata": {},
     "output_type": "execute_result"
    }
   ],
   "source": [
    "lr_model.fit(x_train,y_train)"
   ]
  },
  {
   "cell_type": "code",
   "execution_count": 18,
   "id": "1c2bcb08",
   "metadata": {
    "execution": {
     "iopub.execute_input": "2025-07-26T01:21:05.226271Z",
     "iopub.status.busy": "2025-07-26T01:21:05.225930Z",
     "iopub.status.idle": "2025-07-26T01:21:05.233355Z",
     "shell.execute_reply": "2025-07-26T01:21:05.232354Z"
    },
    "papermill": {
     "duration": 0.015418,
     "end_time": "2025-07-26T01:21:05.235068",
     "exception": false,
     "start_time": "2025-07-26T01:21:05.219650",
     "status": "completed"
    },
    "tags": []
   },
   "outputs": [],
   "source": [
    "y_pred=lr_model.predict(x_test)"
   ]
  },
  {
   "cell_type": "code",
   "execution_count": 19,
   "id": "642ec695",
   "metadata": {
    "execution": {
     "iopub.execute_input": "2025-07-26T01:21:05.246311Z",
     "iopub.status.busy": "2025-07-26T01:21:05.245955Z",
     "iopub.status.idle": "2025-07-26T01:21:05.278722Z",
     "shell.execute_reply": "2025-07-26T01:21:05.277658Z"
    },
    "papermill": {
     "duration": 0.040272,
     "end_time": "2025-07-26T01:21:05.280274",
     "exception": false,
     "start_time": "2025-07-26T01:21:05.240002",
     "status": "completed"
    },
    "tags": []
   },
   "outputs": [
    {
     "name": "stdout",
     "output_type": "stream",
     "text": [
      "              precision    recall  f1-score   support\n",
      "\n",
      "           0       0.90      0.87      0.89      6157\n",
      "           1       0.88      0.90      0.89      6343\n",
      "\n",
      "    accuracy                           0.89     12500\n",
      "   macro avg       0.89      0.89      0.89     12500\n",
      "weighted avg       0.89      0.89      0.89     12500\n",
      "\n"
     ]
    }
   ],
   "source": [
    "print(classification_report(y_test,y_pred))"
   ]
  },
  {
   "cell_type": "code",
   "execution_count": 20,
   "id": "0a617b95",
   "metadata": {
    "execution": {
     "iopub.execute_input": "2025-07-26T01:21:05.291696Z",
     "iopub.status.busy": "2025-07-26T01:21:05.291301Z",
     "iopub.status.idle": "2025-07-26T01:21:05.295755Z",
     "shell.execute_reply": "2025-07-26T01:21:05.294765Z"
    },
    "papermill": {
     "duration": 0.012548,
     "end_time": "2025-07-26T01:21:05.297919",
     "exception": false,
     "start_time": "2025-07-26T01:21:05.285371",
     "status": "completed"
    },
    "tags": []
   },
   "outputs": [],
   "source": [
    "nb_model=MultinomialNB()"
   ]
  },
  {
   "cell_type": "code",
   "execution_count": 21,
   "id": "1c513170",
   "metadata": {
    "execution": {
     "iopub.execute_input": "2025-07-26T01:21:05.309808Z",
     "iopub.status.busy": "2025-07-26T01:21:05.309425Z",
     "iopub.status.idle": "2025-07-26T01:21:05.360984Z",
     "shell.execute_reply": "2025-07-26T01:21:05.359930Z"
    },
    "papermill": {
     "duration": 0.059649,
     "end_time": "2025-07-26T01:21:05.362840",
     "exception": false,
     "start_time": "2025-07-26T01:21:05.303191",
     "status": "completed"
    },
    "tags": []
   },
   "outputs": [
    {
     "data": {
      "text/html": [
       "<style>#sk-container-id-2 {color: black;background-color: white;}#sk-container-id-2 pre{padding: 0;}#sk-container-id-2 div.sk-toggleable {background-color: white;}#sk-container-id-2 label.sk-toggleable__label {cursor: pointer;display: block;width: 100%;margin-bottom: 0;padding: 0.3em;box-sizing: border-box;text-align: center;}#sk-container-id-2 label.sk-toggleable__label-arrow:before {content: \"▸\";float: left;margin-right: 0.25em;color: #696969;}#sk-container-id-2 label.sk-toggleable__label-arrow:hover:before {color: black;}#sk-container-id-2 div.sk-estimator:hover label.sk-toggleable__label-arrow:before {color: black;}#sk-container-id-2 div.sk-toggleable__content {max-height: 0;max-width: 0;overflow: hidden;text-align: left;background-color: #f0f8ff;}#sk-container-id-2 div.sk-toggleable__content pre {margin: 0.2em;color: black;border-radius: 0.25em;background-color: #f0f8ff;}#sk-container-id-2 input.sk-toggleable__control:checked~div.sk-toggleable__content {max-height: 200px;max-width: 100%;overflow: auto;}#sk-container-id-2 input.sk-toggleable__control:checked~label.sk-toggleable__label-arrow:before {content: \"▾\";}#sk-container-id-2 div.sk-estimator input.sk-toggleable__control:checked~label.sk-toggleable__label {background-color: #d4ebff;}#sk-container-id-2 div.sk-label input.sk-toggleable__control:checked~label.sk-toggleable__label {background-color: #d4ebff;}#sk-container-id-2 input.sk-hidden--visually {border: 0;clip: rect(1px 1px 1px 1px);clip: rect(1px, 1px, 1px, 1px);height: 1px;margin: -1px;overflow: hidden;padding: 0;position: absolute;width: 1px;}#sk-container-id-2 div.sk-estimator {font-family: monospace;background-color: #f0f8ff;border: 1px dotted black;border-radius: 0.25em;box-sizing: border-box;margin-bottom: 0.5em;}#sk-container-id-2 div.sk-estimator:hover {background-color: #d4ebff;}#sk-container-id-2 div.sk-parallel-item::after {content: \"\";width: 100%;border-bottom: 1px solid gray;flex-grow: 1;}#sk-container-id-2 div.sk-label:hover label.sk-toggleable__label {background-color: #d4ebff;}#sk-container-id-2 div.sk-serial::before {content: \"\";position: absolute;border-left: 1px solid gray;box-sizing: border-box;top: 0;bottom: 0;left: 50%;z-index: 0;}#sk-container-id-2 div.sk-serial {display: flex;flex-direction: column;align-items: center;background-color: white;padding-right: 0.2em;padding-left: 0.2em;position: relative;}#sk-container-id-2 div.sk-item {position: relative;z-index: 1;}#sk-container-id-2 div.sk-parallel {display: flex;align-items: stretch;justify-content: center;background-color: white;position: relative;}#sk-container-id-2 div.sk-item::before, #sk-container-id-2 div.sk-parallel-item::before {content: \"\";position: absolute;border-left: 1px solid gray;box-sizing: border-box;top: 0;bottom: 0;left: 50%;z-index: -1;}#sk-container-id-2 div.sk-parallel-item {display: flex;flex-direction: column;z-index: 1;position: relative;background-color: white;}#sk-container-id-2 div.sk-parallel-item:first-child::after {align-self: flex-end;width: 50%;}#sk-container-id-2 div.sk-parallel-item:last-child::after {align-self: flex-start;width: 50%;}#sk-container-id-2 div.sk-parallel-item:only-child::after {width: 0;}#sk-container-id-2 div.sk-dashed-wrapped {border: 1px dashed gray;margin: 0 0.4em 0.5em 0.4em;box-sizing: border-box;padding-bottom: 0.4em;background-color: white;}#sk-container-id-2 div.sk-label label {font-family: monospace;font-weight: bold;display: inline-block;line-height: 1.2em;}#sk-container-id-2 div.sk-label-container {text-align: center;}#sk-container-id-2 div.sk-container {/* jupyter's `normalize.less` sets `[hidden] { display: none; }` but bootstrap.min.css set `[hidden] { display: none !important; }` so we also need the `!important` here to be able to override the default hidden behavior on the sphinx rendered scikit-learn.org. See: https://github.com/scikit-learn/scikit-learn/issues/21755 */display: inline-block !important;position: relative;}#sk-container-id-2 div.sk-text-repr-fallback {display: none;}</style><div id=\"sk-container-id-2\" class=\"sk-top-container\"><div class=\"sk-text-repr-fallback\"><pre>MultinomialNB()</pre><b>In a Jupyter environment, please rerun this cell to show the HTML representation or trust the notebook. <br />On GitHub, the HTML representation is unable to render, please try loading this page with nbviewer.org.</b></div><div class=\"sk-container\" hidden><div class=\"sk-item\"><div class=\"sk-estimator sk-toggleable\"><input class=\"sk-toggleable__control sk-hidden--visually\" id=\"sk-estimator-id-2\" type=\"checkbox\" checked><label for=\"sk-estimator-id-2\" class=\"sk-toggleable__label sk-toggleable__label-arrow\">MultinomialNB</label><div class=\"sk-toggleable__content\"><pre>MultinomialNB()</pre></div></div></div></div></div>"
      ],
      "text/plain": [
       "MultinomialNB()"
      ]
     },
     "execution_count": 21,
     "metadata": {},
     "output_type": "execute_result"
    }
   ],
   "source": [
    "nb_model.fit(x_train,y_train) #train the model"
   ]
  },
  {
   "cell_type": "code",
   "execution_count": 22,
   "id": "445a6c86",
   "metadata": {
    "execution": {
     "iopub.execute_input": "2025-07-26T01:21:05.376054Z",
     "iopub.status.busy": "2025-07-26T01:21:05.375478Z",
     "iopub.status.idle": "2025-07-26T01:21:05.386963Z",
     "shell.execute_reply": "2025-07-26T01:21:05.385858Z"
    },
    "papermill": {
     "duration": 0.020062,
     "end_time": "2025-07-26T01:21:05.388820",
     "exception": false,
     "start_time": "2025-07-26T01:21:05.368758",
     "status": "completed"
    },
    "tags": []
   },
   "outputs": [],
   "source": [
    "y_pred_nb=nb_model.predict(x_test)"
   ]
  },
  {
   "cell_type": "code",
   "execution_count": 23,
   "id": "ea2ec03e",
   "metadata": {
    "execution": {
     "iopub.execute_input": "2025-07-26T01:21:05.400849Z",
     "iopub.status.busy": "2025-07-26T01:21:05.400125Z",
     "iopub.status.idle": "2025-07-26T01:21:05.429912Z",
     "shell.execute_reply": "2025-07-26T01:21:05.428719Z"
    },
    "papermill": {
     "duration": 0.03743,
     "end_time": "2025-07-26T01:21:05.431432",
     "exception": false,
     "start_time": "2025-07-26T01:21:05.394002",
     "status": "completed"
    },
    "tags": []
   },
   "outputs": [
    {
     "name": "stdout",
     "output_type": "stream",
     "text": [
      "              precision    recall  f1-score   support\n",
      "\n",
      "           0       0.90      0.88      0.89      6166\n",
      "           1       0.89      0.91      0.90      6334\n",
      "\n",
      "    accuracy                           0.90     12500\n",
      "   macro avg       0.90      0.90      0.90     12500\n",
      "weighted avg       0.90      0.90      0.90     12500\n",
      "\n"
     ]
    }
   ],
   "source": [
    "print(classification_report(y_pred_nb,y_pred))"
   ]
  }
 ],
 "metadata": {
  "kaggle": {
   "accelerator": "none",
   "dataSources": [
    {
     "datasetId": 134715,
     "sourceId": 320111,
     "sourceType": "datasetVersion"
    }
   ],
   "dockerImageVersionId": 31089,
   "isGpuEnabled": false,
   "isInternetEnabled": true,
   "language": "python",
   "sourceType": "notebook"
  },
  "kernelspec": {
   "display_name": "Python 3",
   "language": "python",
   "name": "python3"
  },
  "language_info": {
   "codemirror_mode": {
    "name": "ipython",
    "version": 3
   },
   "file_extension": ".py",
   "mimetype": "text/x-python",
   "name": "python",
   "nbconvert_exporter": "python",
   "pygments_lexer": "ipython3",
   "version": "3.11.13"
  },
  "papermill": {
   "default_parameters": {},
   "duration": 60.563013,
   "end_time": "2025-07-26T01:21:06.359283",
   "environment_variables": {},
   "exception": null,
   "input_path": "__notebook__.ipynb",
   "output_path": "__notebook__.ipynb",
   "parameters": {},
   "start_time": "2025-07-26T01:20:05.796270",
   "version": "2.6.0"
  }
 },
 "nbformat": 4,
 "nbformat_minor": 5
}
